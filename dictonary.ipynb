{
 "cells": [
  {
   "cell_type": "code",
   "execution_count": 2,
   "id": "4736bf70-4889-4c09-baf8-6cf108de8299",
   "metadata": {},
   "outputs": [],
   "source": [
    "a={}"
   ]
  },
  {
   "cell_type": "code",
   "execution_count": 4,
   "id": "3dfd0d8d-9339-40ef-b16e-3589cc72617f",
   "metadata": {},
   "outputs": [
    {
     "data": {
      "text/plain": [
       "dict"
      ]
     },
     "execution_count": 4,
     "metadata": {},
     "output_type": "execute_result"
    }
   ],
   "source": [
    "type(a)"
   ]
  },
  {
   "cell_type": "code",
   "execution_count": 7,
   "id": "9a6e8bfb-b8ee-42b0-9b67-15fdf87cd154",
   "metadata": {},
   "outputs": [],
   "source": [
    "a={\n",
    "    \"name\":\"rp\",\n",
    "    \"age\":26,\n",
    "    \"class\":'s'\n",
    "}"
   ]
  },
  {
   "cell_type": "code",
   "execution_count": 16,
   "id": "d1bc86ff-31d8-4d4b-832d-e5032a6d6073",
   "metadata": {},
   "outputs": [
    {
     "name": "stdout",
     "output_type": "stream",
     "text": [
      "{'name': 'Alice', 'age': 25, 'city': 'New York'}\n"
     ]
    }
   ],
   "source": [
    "my_dict = {'name': 'Alice', 'age': 25, 'city': 'New York'}\n",
    "print(my_dict)\n"
   ]
  },
  {
   "cell_type": "code",
   "execution_count": 17,
   "id": "a68b49f9-4b77-43d1-80bf-b1c88accf9dd",
   "metadata": {},
   "outputs": [],
   "source": [
    "a={'name':'yeahhh','age':25,'class':'S'}"
   ]
  },
  {
   "cell_type": "code",
   "execution_count": 18,
   "id": "baf1ee34-dd10-4a42-9b41-943f4b6b8666",
   "metadata": {},
   "outputs": [
    {
     "data": {
      "text/plain": [
       "'yeahhh'"
      ]
     },
     "execution_count": 18,
     "metadata": {},
     "output_type": "execute_result"
    }
   ],
   "source": [
    "a['name']"
   ]
  },
  {
   "cell_type": "code",
   "execution_count": 19,
   "id": "eda7bee8-4d29-4646-a5cf-0d31b63791d6",
   "metadata": {},
   "outputs": [],
   "source": [
    "c={\"name\":\"yeahhh\",\"age\":25,\"class\":'S'}"
   ]
  },
  {
   "cell_type": "code",
   "execution_count": 21,
   "id": "9ea7ce45-66d9-48f2-9098-649e67e79e55",
   "metadata": {},
   "outputs": [
    {
     "data": {
      "text/plain": [
       "'yeahhh'"
      ]
     },
     "execution_count": 21,
     "metadata": {},
     "output_type": "execute_result"
    }
   ],
   "source": [
    "c[\"name\"]"
   ]
  },
  {
   "cell_type": "code",
   "execution_count": 22,
   "id": "baf1fa7a-ea87-455d-9e60-7f4602dda6ba",
   "metadata": {},
   "outputs": [],
   "source": [
    "d={'name':'ye',\n",
    "   'age':25,\n",
    "   'class':'A'}"
   ]
  },
  {
   "cell_type": "code",
   "execution_count": 23,
   "id": "b538c1cc-5030-43dc-a069-3ed95d9456f3",
   "metadata": {},
   "outputs": [
    {
     "data": {
      "text/plain": [
       "'ye'"
      ]
     },
     "execution_count": 23,
     "metadata": {},
     "output_type": "execute_result"
    }
   ],
   "source": [
    "d['name']"
   ]
  },
  {
   "cell_type": "code",
   "execution_count": 25,
   "id": "858d5a0e-0a62-4b78-b59a-76572146381f",
   "metadata": {},
   "outputs": [],
   "source": [
    "d.get(\"nam4\")\n",
    "#.get se error nahi mili nam4 me none show hua but agar .get nahi laga te to none milta "
   ]
  },
  {
   "cell_type": "code",
   "execution_count": 28,
   "id": "5f3499eb-315f-45de-aa77-111d2a1d6eb3",
   "metadata": {},
   "outputs": [],
   "source": [
    "b={'name':'genous',\n",
    "  'age':19,\n",
    "  'class':'S'}"
   ]
  },
  {
   "cell_type": "code",
   "execution_count": 29,
   "id": "9a7c4b92-4721-437d-9b54-3f95b4db518b",
   "metadata": {},
   "outputs": [],
   "source": [
    "b['age']=20"
   ]
  },
  {
   "cell_type": "code",
   "execution_count": 30,
   "id": "afbb80f8-66b8-4161-9bc9-bd2360f9929b",
   "metadata": {},
   "outputs": [
    {
     "data": {
      "text/plain": [
       "20"
      ]
     },
     "execution_count": 30,
     "metadata": {},
     "output_type": "execute_result"
    }
   ],
   "source": [
    "b['age']"
   ]
  },
  {
   "cell_type": "code",
   "execution_count": 32,
   "id": "23c0d623-89b9-4846-aa1c-c24b7b119fa5",
   "metadata": {},
   "outputs": [
    {
     "data": {
      "text/plain": [
       "dict_keys(['name', 'age', 'class'])"
      ]
     },
     "execution_count": 32,
     "metadata": {},
     "output_type": "execute_result"
    }
   ],
   "source": [
    "b.keys()"
   ]
  },
  {
   "cell_type": "code",
   "execution_count": 34,
   "id": "e5a265c2-6a94-49bb-b63c-fdc4fee7d51d",
   "metadata": {},
   "outputs": [
    {
     "data": {
      "text/plain": [
       "dict_values(['genous', 20, 'S'])"
      ]
     },
     "execution_count": 34,
     "metadata": {},
     "output_type": "execute_result"
    }
   ],
   "source": [
    "b.values()"
   ]
  },
  {
   "cell_type": "code",
   "execution_count": 36,
   "id": "26d3ee31-a7bc-4c7a-9006-6b4495f0e796",
   "metadata": {},
   "outputs": [
    {
     "data": {
      "text/plain": [
       "dict_items([('name', 'genous'), ('age', 20), ('class', 'S')])"
      ]
     },
     "execution_count": 36,
     "metadata": {},
     "output_type": "execute_result"
    }
   ],
   "source": [
    "b.items()"
   ]
  },
  {
   "cell_type": "code",
   "execution_count": 38,
   "id": "e63e1e2a-db15-431e-86e6-0bc72368b8b6",
   "metadata": {},
   "outputs": [
    {
     "name": "stdout",
     "output_type": "stream",
     "text": [
      "name\n",
      "age\n",
      "class\n"
     ]
    }
   ],
   "source": [
    "for i in b.keys():\n",
    "    print(i)"
   ]
  },
  {
   "cell_type": "code",
   "execution_count": 40,
   "id": "0c6d6e6e-f12d-474d-a3db-affabadc1d63",
   "metadata": {},
   "outputs": [
    {
     "name": "stdout",
     "output_type": "stream",
     "text": [
      "('name', 'genous')\n",
      "('age', 20)\n",
      "('class', 'S')\n"
     ]
    }
   ],
   "source": [
    "for i in b.items():\n",
    "    print(i)"
   ]
  },
  {
   "cell_type": "code",
   "execution_count": 45,
   "id": "077cd603-ce4d-47a4-b133-5691f152ec49",
   "metadata": {},
   "outputs": [],
   "source": [
    "b.update({'name':'rohit'})\n",
    "    "
   ]
  },
  {
   "cell_type": "code",
   "execution_count": 47,
   "id": "93506e8e-65c6-4f94-b193-b6c516c1055f",
   "metadata": {},
   "outputs": [
    {
     "data": {
      "text/plain": [
       "dict_items([('name', 'rohit'), ('age', 20), ('class', 'S')])"
      ]
     },
     "execution_count": 47,
     "metadata": {},
     "output_type": "execute_result"
    }
   ],
   "source": [
    "b.items()"
   ]
  },
  {
   "cell_type": "code",
   "execution_count": 48,
   "id": "b2ec1615-4fbe-4e8d-a035-440114aadeaf",
   "metadata": {},
   "outputs": [
    {
     "data": {
      "text/plain": [
       "'S'"
      ]
     },
     "execution_count": 48,
     "metadata": {},
     "output_type": "execute_result"
    }
   ],
   "source": [
    "b.pop('class')"
   ]
  },
  {
   "cell_type": "code",
   "execution_count": 50,
   "id": "855a335d-558f-4cba-9f0d-2a1806536384",
   "metadata": {},
   "outputs": [
    {
     "data": {
      "text/plain": [
       "('name', 'rohit')"
      ]
     },
     "execution_count": 50,
     "metadata": {},
     "output_type": "execute_result"
    }
   ],
   "source": [
    "b.popitem()"
   ]
  },
  {
   "cell_type": "code",
   "execution_count": 52,
   "id": "7d30bb58-65b1-4161-970b-c913d77b1a73",
   "metadata": {},
   "outputs": [
    {
     "data": {
      "text/plain": [
       "'unknown'"
      ]
     },
     "execution_count": 52,
     "metadata": {},
     "output_type": "execute_result"
    }
   ],
   "source": [
    "b.setdefault(\"city\",\"unknown\")"
   ]
  }
 ],
 "metadata": {
  "kernelspec": {
   "display_name": "Python 3 (ipykernel)",
   "language": "python",
   "name": "python3"
  },
  "language_info": {
   "codemirror_mode": {
    "name": "ipython",
    "version": 3
   },
   "file_extension": ".py",
   "mimetype": "text/x-python",
   "name": "python",
   "nbconvert_exporter": "python",
   "pygments_lexer": "ipython3",
   "version": "3.11.7"
  }
 },
 "nbformat": 4,
 "nbformat_minor": 5
}
