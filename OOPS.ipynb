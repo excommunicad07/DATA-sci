{
 "cells": [
  {
   "cell_type": "code",
   "execution_count": 6,
   "id": "4b5ccf10-94ce-4dc0-a014-5be58be7966c",
   "metadata": {},
   "outputs": [
    {
     "name": "stdout",
     "output_type": "stream",
     "text": [
      "The car McLaren has model 2017\n"
     ]
    }
   ],
   "source": [
    "class autoexp:\n",
    "    def __init__(self, name, model):  # Correct constructor name\n",
    "        self.name = name\n",
    "        self.model_year = model       # Use a different name to avoid conflict\n",
    "\n",
    "    def show_model(self):             # Rename the method to avoid conflict\n",
    "        print(f\"The car {self.name} has model {self.model_year}\")\n",
    "\n",
    "c = autoexp(\"McLaren\", 2017)\n",
    "c.show_model()\n",
    "        "
   ]
  },
  {
   "cell_type": "code",
   "execution_count": 13,
   "id": "e2c27f5e-cb90-4b4a-b337-fb24762f96e5",
   "metadata": {},
   "outputs": [
    {
     "name": "stdout",
     "output_type": "stream",
     "text": [
      "the car name isS-class and model is 2018\n",
      "exx whyy zed\n",
      "the starting price is 70lakh\n"
     ]
    }
   ],
   "source": [
    "class mercedes:\n",
    "    minprice=\"70lakh\"\n",
    "    def __init__(self, name , model):\n",
    "        self.name=name\n",
    "        self.model=model\n",
    "\n",
    "    def exp_class(self):\n",
    "        print(f\"the car name is{self.name} and model is {self.model}\")\n",
    "    @staticmethod   #ye static method hai ye bina self k jald jata hai only if you mention @staticmethod\n",
    "    def timr():\n",
    "        print(\"exx whyy zed\")\n",
    "    @classmethod  #sirf class k attributes ko print krta hai\n",
    "    def printclass(cls):\n",
    "        print(f\"the starting price is {cls.minprice}\")\n",
    "\n",
    "m=mercedes(\"S-class\",2018)\n",
    "m.exp_class()\n",
    "m.timr()\n",
    "m.printclass()"
   ]
  }
 ],
 "metadata": {
  "kernelspec": {
   "display_name": "Python 3 (ipykernel)",
   "language": "python",
   "name": "python3"
  },
  "language_info": {
   "codemirror_mode": {
    "name": "ipython",
    "version": 3
   },
   "file_extension": ".py",
   "mimetype": "text/x-python",
   "name": "python",
   "nbconvert_exporter": "python",
   "pygments_lexer": "ipython3",
   "version": "3.11.7"
  }
 },
 "nbformat": 4,
 "nbformat_minor": 5
}
