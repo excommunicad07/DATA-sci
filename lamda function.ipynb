{
 "cells": [
  {
   "cell_type": "code",
   "execution_count": 3,
   "id": "82d76be2-b0bb-4e6a-92e7-4fb670a9de85",
   "metadata": {},
   "outputs": [],
   "source": [
    "cube= lambda x:x**3"
   ]
  },
  {
   "cell_type": "code",
   "execution_count": 6,
   "id": "a2791166-d1f9-41b9-b34c-abfa50f69ebf",
   "metadata": {},
   "outputs": [
    {
     "ename": "TypeError",
     "evalue": "'int' object is not callable",
     "output_type": "error",
     "traceback": [
      "\u001b[1;31m---------------------------------------------------------------------------\u001b[0m",
      "\u001b[1;31mTypeError\u001b[0m                                 Traceback (most recent call last)",
      "Cell \u001b[1;32mIn[6], line 1\u001b[0m\n\u001b[1;32m----> 1\u001b[0m cube(\u001b[38;5;241m2\u001b[39m)\n",
      "\u001b[1;31mTypeError\u001b[0m: 'int' object is not callable"
     ]
    }
   ],
   "source": [
    "cube(2)"
   ]
  },
  {
   "cell_type": "code",
   "execution_count": 7,
   "id": "3be49c2e-e5b2-477b-bcd7-2da921bae64c",
   "metadata": {},
   "outputs": [],
   "source": [
    "sq= lambda y:y**2"
   ]
  },
  {
   "cell_type": "code",
   "execution_count": 9,
   "id": "cb9854d3-137a-4be0-a919-3d607ab2c2c4",
   "metadata": {},
   "outputs": [
    {
     "data": {
      "text/plain": [
       "4"
      ]
     },
     "execution_count": 9,
     "metadata": {},
     "output_type": "execute_result"
    }
   ],
   "source": [
    "sq(2)"
   ]
  },
  {
   "cell_type": "code",
   "execution_count": 11,
   "id": "81aded6d-c0cb-4fd6-a628-1996340eadda",
   "metadata": {},
   "outputs": [],
   "source": [
    "cu =lambda x:x**3"
   ]
  },
  {
   "cell_type": "code",
   "execution_count": 12,
   "id": "f7946a84-3e6c-4a15-ae74-81c4af60012d",
   "metadata": {},
   "outputs": [
    {
     "data": {
      "text/plain": [
       "27"
      ]
     },
     "execution_count": 12,
     "metadata": {},
     "output_type": "execute_result"
    }
   ],
   "source": [
    "cu(3)"
   ]
  }
 ],
 "metadata": {
  "kernelspec": {
   "display_name": "Python 3 (ipykernel)",
   "language": "python",
   "name": "python3"
  },
  "language_info": {
   "codemirror_mode": {
    "name": "ipython",
    "version": 3
   },
   "file_extension": ".py",
   "mimetype": "text/x-python",
   "name": "python",
   "nbconvert_exporter": "python",
   "pygments_lexer": "ipython3",
   "version": "3.11.7"
  }
 },
 "nbformat": 4,
 "nbformat_minor": 5
}
