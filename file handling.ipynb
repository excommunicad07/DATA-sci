{
 "cells": [
  {
   "cell_type": "code",
   "execution_count": 3,
   "id": "7e3e2677-b851-4e4f-b4fa-7efbf3fad1dc",
   "metadata": {},
   "outputs": [],
   "source": [
    "f=open(\"sample.txt\",\"r\")"
   ]
  },
  {
   "cell_type": "code",
   "execution_count": 5,
   "id": "ff3f1494-81f5-4958-b503-793776bae5eb",
   "metadata": {},
   "outputs": [
    {
     "data": {
      "text/plain": [
       "'ishfa[shfsorg[rigsrgrgsr9gsjrpjgsr[jg]rp9grgjaefuaefjerprmwrcnr3r3j94   \\n'"
      ]
     },
     "execution_count": 5,
     "metadata": {},
     "output_type": "execute_result"
    }
   ],
   "source": [
    "f.read()"
   ]
  },
  {
   "cell_type": "code",
   "execution_count": 7,
   "id": "7569f233-ea73-459e-9867-b2cd97f8ba61",
   "metadata": {},
   "outputs": [],
   "source": [
    "s=\"i'm vengence\""
   ]
  },
  {
   "cell_type": "code",
   "execution_count": 9,
   "id": "03fecdb9-6cde-4d57-a0df-95d473a9eee8",
   "metadata": {},
   "outputs": [],
   "source": [
    "f.close()"
   ]
  },
  {
   "cell_type": "code",
   "execution_count": 12,
   "id": "1792d972-eb3a-4c34-a850-d78d00e95686",
   "metadata": {},
   "outputs": [],
   "source": [
    "f=open(\"sample.txt\",\"w\")"
   ]
  },
  {
   "cell_type": "code",
   "execution_count": 15,
   "id": "ea900959-2917-49d6-9233-65d0adcd4b91",
   "metadata": {},
   "outputs": [
    {
     "data": {
      "text/plain": [
       "12"
      ]
     },
     "execution_count": 15,
     "metadata": {},
     "output_type": "execute_result"
    }
   ],
   "source": [
    "f.write(s)"
   ]
  },
  {
   "cell_type": "code",
   "execution_count": 16,
   "id": "423ad1d5-489e-46b4-8ce8-a53b80b18219",
   "metadata": {},
   "outputs": [],
   "source": [
    "f.close()"
   ]
  }
 ],
 "metadata": {
  "kernelspec": {
   "display_name": "Python 3 (ipykernel)",
   "language": "python",
   "name": "python3"
  },
  "language_info": {
   "codemirror_mode": {
    "name": "ipython",
    "version": 3
   },
   "file_extension": ".py",
   "mimetype": "text/x-python",
   "name": "python",
   "nbconvert_exporter": "python",
   "pygments_lexer": "ipython3",
   "version": "3.11.7"
  }
 },
 "nbformat": 4,
 "nbformat_minor": 5
}
