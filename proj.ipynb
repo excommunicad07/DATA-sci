{
 "cells": [
  {
   "cell_type": "code",
   "execution_count": 1,
   "id": "3f809e02-b167-4906-b8c8-6547d100fa51",
   "metadata": {},
   "outputs": [],
   "source": [
    "import json"
   ]
  },
  {
   "cell_type": "code",
   "execution_count": 7,
   "id": "8968c1df-928e-425c-b0f0-4a389cabf1ea",
   "metadata": {},
   "outputs": [],
   "source": [
    "def xao(file):\n",
    "    with open(file,\"r\") as few:\n",
    "        ob=json.load(few)\n",
    "    return ob\n"
   ]
  }
 ],
 "metadata": {
  "kernelspec": {
   "display_name": "Python 3 (ipykernel)",
   "language": "python",
   "name": "python3"
  },
  "language_info": {
   "codemirror_mode": {
    "name": "ipython",
    "version": 3
   },
   "file_extension": ".py",
   "mimetype": "text/x-python",
   "name": "python",
   "nbconvert_exporter": "python",
   "pygments_lexer": "ipython3",
   "version": "3.11.7"
  }
 },
 "nbformat": 4,
 "nbformat_minor": 5
}
