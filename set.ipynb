{
 "cells": [
  {
   "cell_type": "code",
   "execution_count": 2,
   "id": "95220500-5bf0-4a48-8282-b1fc2ed4d862",
   "metadata": {},
   "outputs": [],
   "source": [
    "s={}"
   ]
  },
  {
   "cell_type": "code",
   "execution_count": 4,
   "id": "561b1a35-bc23-498a-a0d4-f42c5db2ad2b",
   "metadata": {},
   "outputs": [
    {
     "data": {
      "text/plain": [
       "dict"
      ]
     },
     "execution_count": 4,
     "metadata": {},
     "output_type": "execute_result"
    }
   ],
   "source": [
    "type(s)"
   ]
  },
  {
   "cell_type": "code",
   "execution_count": 5,
   "id": "8ccc6404-309e-4fc3-9432-d3818bead8fb",
   "metadata": {},
   "outputs": [],
   "source": [
    "b=set()"
   ]
  },
  {
   "cell_type": "code",
   "execution_count": 7,
   "id": "adb9d335-d84f-4eb1-adeb-f9807d53cede",
   "metadata": {},
   "outputs": [
    {
     "data": {
      "text/plain": [
       "set"
      ]
     },
     "execution_count": 7,
     "metadata": {},
     "output_type": "execute_result"
    }
   ],
   "source": [
    "type(b)"
   ]
  },
  {
   "cell_type": "code",
   "execution_count": 9,
   "id": "b590a794-a878-4af0-975f-b579fce52819",
   "metadata": {},
   "outputs": [],
   "source": [
    "mix_set={'s',1,2,3,'true'}"
   ]
  },
  {
   "cell_type": "code",
   "execution_count": 11,
   "id": "9fd9118c-c564-405c-b222-4bfb3ac575fa",
   "metadata": {},
   "outputs": [
    {
     "data": {
      "text/plain": [
       "{1, 2, 3, 's', 'true'}"
      ]
     },
     "execution_count": 11,
     "metadata": {},
     "output_type": "execute_result"
    }
   ],
   "source": [
    "mix_set"
   ]
  },
  {
   "cell_type": "code",
   "execution_count": 12,
   "id": "4f945239-9a2e-44d1-9135-8342f55125c0",
   "metadata": {},
   "outputs": [],
   "source": [
    "ls=set([1,2,3,4,5,5]) #list se set bana deta hai"
   ]
  },
  {
   "cell_type": "code",
   "execution_count": 17,
   "id": "e6723f28-587f-4a29-902d-38ed72b1da85",
   "metadata": {},
   "outputs": [
    {
     "name": "stdout",
     "output_type": "stream",
     "text": [
      "[1, 2, 3, 4, 5]\n"
     ]
    }
   ],
   "source": [
    "print(ls)"
   ]
  },
  {
   "cell_type": "code",
   "execution_count": 20,
   "id": "a5a812a6-06c7-414f-9a28-cf9a186d78e0",
   "metadata": {},
   "outputs": [],
   "source": [
    "set={1,2,2,3,4}"
   ]
  },
  {
   "cell_type": "code",
   "execution_count": 21,
   "id": "66e41525-f10c-4845-b861-8c91b1b83d8d",
   "metadata": {},
   "outputs": [
    {
     "name": "stdout",
     "output_type": "stream",
     "text": [
      "{1, 2, 3, 4}\n"
     ]
    }
   ],
   "source": [
    "print(set)"
   ]
  },
  {
   "cell_type": "code",
   "execution_count": 22,
   "id": "dc748627-f579-4d73-b772-0a31cb0f3353",
   "metadata": {},
   "outputs": [],
   "source": [
    "set.add(35)"
   ]
  },
  {
   "cell_type": "code",
   "execution_count": 23,
   "id": "befd420c-b390-4a98-9123-9aaaa3909945",
   "metadata": {},
   "outputs": [
    {
     "name": "stdout",
     "output_type": "stream",
     "text": [
      "{1, 2, 3, 4, 35}\n"
     ]
    }
   ],
   "source": [
    "print(set)"
   ]
  },
  {
   "cell_type": "code",
   "execution_count": 24,
   "id": "12ae421d-a486-4b83-b048-4dd64d37e28f",
   "metadata": {},
   "outputs": [],
   "source": [
    "set.update([15,4,30])"
   ]
  },
  {
   "cell_type": "code",
   "execution_count": 26,
   "id": "0afe1703-8994-4e77-a24f-867fbfacb5e7",
   "metadata": {},
   "outputs": [
    {
     "name": "stdout",
     "output_type": "stream",
     "text": [
      "{1, 2, 3, 4, 35, 15, 30}\n"
     ]
    }
   ],
   "source": [
    "print(set)"
   ]
  },
  {
   "cell_type": "code",
   "execution_count": 27,
   "id": "2b289cc6-b3ee-463d-a750-8d6b4f45a5ef",
   "metadata": {},
   "outputs": [],
   "source": [
    "set.remove(4)"
   ]
  },
  {
   "cell_type": "code",
   "execution_count": 28,
   "id": "b464fb2f-dc1f-427f-b077-65af2413e02d",
   "metadata": {},
   "outputs": [
    {
     "name": "stdout",
     "output_type": "stream",
     "text": [
      "{1, 2, 3, 35, 15, 30}\n"
     ]
    }
   ],
   "source": [
    "print(set)"
   ]
  },
  {
   "cell_type": "code",
   "execution_count": 31,
   "id": "3ed977d0-bf00-460f-b308-967ece9b2b9a",
   "metadata": {},
   "outputs": [],
   "source": [
    "set.discard(20)#agar list me 20 nahi hai to bhi error nahi dikhayega , remove dikhata hai"
   ]
  },
  {
   "cell_type": "code",
   "execution_count": 33,
   "id": "c7f728c3-83cb-4609-ac2a-7a5b8c182abd",
   "metadata": {},
   "outputs": [
    {
     "name": "stdout",
     "output_type": "stream",
     "text": [
      "{1, 2, 3, 35, 15, 30}\n"
     ]
    }
   ],
   "source": [
    "print(set)"
   ]
  },
  {
   "cell_type": "code",
   "execution_count": 36,
   "id": "519915b1-4c63-49e4-aa4f-2610263f09b7",
   "metadata": {},
   "outputs": [
    {
     "data": {
      "text/plain": [
       "1"
      ]
     },
     "execution_count": 36,
     "metadata": {},
     "output_type": "execute_result"
    }
   ],
   "source": [
    "set.pop()#random element remove karta hai"
   ]
  },
  {
   "cell_type": "code",
   "execution_count": 38,
   "id": "39ceee61-1f39-4512-a100-5f98faada735",
   "metadata": {},
   "outputs": [
    {
     "data": {
      "text/plain": [
       "3"
      ]
     },
     "execution_count": 38,
     "metadata": {},
     "output_type": "execute_result"
    }
   ],
   "source": [
    "set.pop()"
   ]
  },
  {
   "cell_type": "code",
   "execution_count": 39,
   "id": "30d2bca9-aa70-4855-9160-f277e6514290",
   "metadata": {},
   "outputs": [],
   "source": [
    "zzz=set.copy()"
   ]
  },
  {
   "cell_type": "code",
   "execution_count": 40,
   "id": "4dbbbf03-8df9-43ab-a043-d490e852ac82",
   "metadata": {},
   "outputs": [
    {
     "name": "stdout",
     "output_type": "stream",
     "text": [
      "{35, 30, 15}\n"
     ]
    }
   ],
   "source": [
    "print(zzz)"
   ]
  },
  {
   "cell_type": "code",
   "execution_count": 41,
   "id": "23dad212-0e8a-4024-93c4-e502d2c547da",
   "metadata": {},
   "outputs": [],
   "source": [
    "s1={1,2,3,4,5}\n"
   ]
  },
  {
   "cell_type": "code",
   "execution_count": 46,
   "id": "b7941659-0cf1-49c6-bbca-d1de7b0ca219",
   "metadata": {},
   "outputs": [
    {
     "data": {
      "text/plain": [
       "{1, 2, 3, 4, 5}"
      ]
     },
     "execution_count": 46,
     "metadata": {},
     "output_type": "execute_result"
    }
   ],
   "source": [
    "s1"
   ]
  },
  {
   "cell_type": "code",
   "execution_count": 47,
   "id": "6939b18e-cc48-4f2e-8457-33aa18c2fb15",
   "metadata": {},
   "outputs": [],
   "source": [
    "s2={4,5,6,7,8}"
   ]
  },
  {
   "cell_type": "code",
   "execution_count": 49,
   "id": "487703ea-08de-4f99-96c0-c4e2a276439d",
   "metadata": {},
   "outputs": [
    {
     "data": {
      "text/plain": [
       "{4, 5, 6, 7, 8}"
      ]
     },
     "execution_count": 49,
     "metadata": {},
     "output_type": "execute_result"
    }
   ],
   "source": [
    "s2"
   ]
  },
  {
   "cell_type": "code",
   "execution_count": 51,
   "id": "3c880d98-d859-4095-9385-95eae245c529",
   "metadata": {},
   "outputs": [
    {
     "data": {
      "text/plain": [
       "{1, 2, 3, 4, 5, 6, 7, 8}"
      ]
     },
     "execution_count": 51,
     "metadata": {},
     "output_type": "execute_result"
    }
   ],
   "source": [
    "s1.union(s2)"
   ]
  },
  {
   "cell_type": "code",
   "execution_count": 52,
   "id": "187039be-e91f-4329-b1ed-81d47ac3243b",
   "metadata": {},
   "outputs": [
    {
     "data": {
      "text/plain": [
       "{4, 5}"
      ]
     },
     "execution_count": 52,
     "metadata": {},
     "output_type": "execute_result"
    }
   ],
   "source": [
    "s1.intersection(s2)"
   ]
  },
  {
   "cell_type": "code",
   "execution_count": 54,
   "id": "493cec59-00d7-4ef6-9e0c-b41f6dda0783",
   "metadata": {},
   "outputs": [
    {
     "data": {
      "text/plain": [
       "{1, 2, 3}"
      ]
     },
     "execution_count": 54,
     "metadata": {},
     "output_type": "execute_result"
    }
   ],
   "source": [
    "s1.difference(s2)"
   ]
  },
  {
   "cell_type": "code",
   "execution_count": 57,
   "id": "0bcbbce6-2dfc-4430-bd19-1d54d12d2594",
   "metadata": {},
   "outputs": [
    {
     "data": {
      "text/plain": [
       "{1, 2, 3, 6, 7, 8}"
      ]
     },
     "execution_count": 57,
     "metadata": {},
     "output_type": "execute_result"
    }
   ],
   "source": [
    "s1.symmetric_difference(s2)"
   ]
  },
  {
   "cell_type": "code",
   "execution_count": 58,
   "id": "efc6d963-5447-4859-b78b-ea8e8596ce3c",
   "metadata": {},
   "outputs": [],
   "source": [
    "sub={7,8}"
   ]
  },
  {
   "cell_type": "code",
   "execution_count": 60,
   "id": "60c0b31a-c4ea-451b-8d2a-10449232045e",
   "metadata": {},
   "outputs": [
    {
     "data": {
      "text/plain": [
       "True"
      ]
     },
     "execution_count": 60,
     "metadata": {},
     "output_type": "execute_result"
    }
   ],
   "source": [
    "s2.issuperset(sub)"
   ]
  },
  {
   "cell_type": "code",
   "execution_count": 61,
   "id": "aac89f70-3474-45ac-9c01-834b72fc1487",
   "metadata": {},
   "outputs": [
    {
     "data": {
      "text/plain": [
       "True"
      ]
     },
     "execution_count": 61,
     "metadata": {},
     "output_type": "execute_result"
    }
   ],
   "source": [
    "sub.issubset(s2)"
   ]
  }
 ],
 "metadata": {
  "kernelspec": {
   "display_name": "Python 3 (ipykernel)",
   "language": "python",
   "name": "python3"
  },
  "language_info": {
   "codemirror_mode": {
    "name": "ipython",
    "version": 3
   },
   "file_extension": ".py",
   "mimetype": "text/x-python",
   "name": "python",
   "nbconvert_exporter": "python",
   "pygments_lexer": "ipython3",
   "version": "3.11.7"
  }
 },
 "nbformat": 4,
 "nbformat_minor": 5
}
