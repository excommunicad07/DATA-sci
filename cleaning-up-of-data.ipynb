{
 "cells": [
  {
   "cell_type": "code",
   "execution_count": 1,
   "id": "cdddf7f3-1ded-423a-9c30-80b903bdb3ce",
   "metadata": {},
   "outputs": [],
   "source": [
    "import json"
   ]
  },
  {
   "cell_type": "code",
   "execution_count": 5,
   "id": "7e7b1c82-e21e-4840-a7ef-33b8719e9237",
   "metadata": {},
   "outputs": [],
   "source": [
    "def wow(file):\n",
    "    with open(file,\"r\") as f:\n",
    "        ob=json.load(f)\n",
    "    return ob"
   ]
  },
  {
   "cell_type": "code",
   "execution_count": 6,
   "id": "5633b137-2028-46ae-914f-179276cad5cb",
   "metadata": {},
   "outputs": [],
   "source": [
    "ob=wow(\"cleaning of data.json\")"
   ]
  },
  {
   "cell_type": "code",
   "execution_count": 8,
   "id": "541d5440-c979-49f1-b7ae-392bbcf48e8e",
   "metadata": {
    "scrolled": true
   },
   "outputs": [
    {
     "data": {
      "text/plain": [
       "{'users': [{'id': 1, 'name': 'Amit', 'friends': [2, 3], 'liked_pages': [101]},\n",
       "  {'id': 2, 'name': 'Priya', 'friends': [1, 4], 'liked_pages': [102]},\n",
       "  {'id': 3, 'name': '', 'friends': [1], 'liked_pages': [101, 103]},\n",
       "  {'id': 4, 'name': 'Sara', 'friends': [2, 2], 'liked_pages': [104]},\n",
       "  {'id': 5, 'name': 'Amit', 'friends': [], 'liked_pages': []}],\n",
       " 'pages': [{'id': 101, 'name': 'Python Developers'},\n",
       "  {'id': 102, 'name': 'Data Science Enthusiasts'},\n",
       "  {'id': 103, 'name': 'AI & ML Community'},\n",
       "  {'id': 104, 'name': 'Web Dev Hub'},\n",
       "  {'id': 104, 'name': 'Web Development'}]}"
      ]
     },
     "execution_count": 8,
     "metadata": {},
     "output_type": "execute_result"
    }
   ],
   "source": [
    "ob"
   ]
  },
  {
   "cell_type": "code",
   "execution_count": 26,
   "id": "e86de810-de94-48c8-a45c-12cf5a50c3f1",
   "metadata": {
    "scrolled": true
   },
   "outputs": [
    {
     "name": "stdout",
     "output_type": "stream",
     "text": [
      "\n",
      " data modified sucess fully\n"
     ]
    }
   ],
   "source": [
    "def clead_data(ob):\n",
    "    #to remove name\n",
    "    ob[\"users\"]=[i for i in ob[\"users\"]if i[\"name\"].strip()]\n",
    "    #to remove duplicate\n",
    "    for y in ob[\"users\"]:\n",
    "        y['friends']=list(set(y['friends']))\n",
    "\n",
    "    #to remove in active users\n",
    "    [z for z in ob[\"users\"] if z[\"friends\"] or z[\"liked_pages\"]]\n",
    "    \n",
    "    #to remove duplicate pages\n",
    "    unique_pages={}\n",
    "    for a in ob['pages']:\n",
    "        unique_pages[a['id']]=a\n",
    "        ob['pages']=list(unique_pages.values())\n",
    "    \n",
    "    \n",
    "    return ob\n",
    "ob=json.load(open(\"data_clean.json\"))\n",
    "ob=clead_data(ob)\n",
    "json.dump(ob,open(\"data_clean.json\",\"w\"),indent=4)\n",
    "print(\"\\n data modified sucess fully\")\n",
    "\n",
    "       "
   ]
  },
  {
   "cell_type": "code",
   "execution_count": 27,
   "id": "0c1b4067-005d-4258-bf26-5a72b9cd2ac0",
   "metadata": {},
   "outputs": [
    {
     "name": "stdout",
     "output_type": "stream",
     "text": [
      "<class 'dict'>\n"
     ]
    }
   ],
   "source": [
    "print(type(ob))    "
   ]
  }
 ],
 "metadata": {
  "kernelspec": {
   "display_name": "Python 3 (ipykernel)",
   "language": "python",
   "name": "python3"
  },
  "language_info": {
   "codemirror_mode": {
    "name": "ipython",
    "version": 3
   },
   "file_extension": ".py",
   "mimetype": "text/x-python",
   "name": "python",
   "nbconvert_exporter": "python",
   "pygments_lexer": "ipython3",
   "version": "3.11.7"
  }
 },
 "nbformat": 4,
 "nbformat_minor": 5
}
