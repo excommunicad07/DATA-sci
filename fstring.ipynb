{
 "cells": [
  {
   "cell_type": "code",
   "execution_count": 3,
   "id": "47a1bad7-15b3-40d9-8b38-a78859575b52",
   "metadata": {},
   "outputs": [],
   "source": [
    "s=\"bumble bee\""
   ]
  },
  {
   "cell_type": "code",
   "execution_count": 6,
   "id": "836acb8b-e272-4963-a891-a005881b88c1",
   "metadata": {},
   "outputs": [
    {
     "data": {
      "text/plain": [
       "'bumbl'"
      ]
     },
     "execution_count": 6,
     "metadata": {},
     "output_type": "execute_result"
    }
   ],
   "source": [
    "s[0:5]"
   ]
  },
  {
   "cell_type": "code",
   "execution_count": 8,
   "id": "6ddff5f7-75c0-46bc-9af2-b7915b9573a8",
   "metadata": {},
   "outputs": [
    {
     "data": {
      "text/plain": [
       "'Bumble bee'"
      ]
     },
     "execution_count": 8,
     "metadata": {},
     "output_type": "execute_result"
    }
   ],
   "source": [
    "s.capitalize()"
   ]
  },
  {
   "cell_type": "code",
   "execution_count": 12,
   "id": "35749a81-8bc0-4c79-916d-6a1e3da19377",
   "metadata": {},
   "outputs": [
    {
     "data": {
      "text/plain": [
       "3"
      ]
     },
     "execution_count": 12,
     "metadata": {},
     "output_type": "execute_result"
    }
   ],
   "source": [
    "s.count('b')"
   ]
  },
  {
   "cell_type": "code",
   "execution_count": 15,
   "id": "14d33adf-c09d-4772-b996-28396ccbbedb",
   "metadata": {},
   "outputs": [
    {
     "data": {
      "text/plain": [
       "'BUMBLE BEE'"
      ]
     },
     "execution_count": 15,
     "metadata": {},
     "output_type": "execute_result"
    }
   ],
   "source": [
    "s.upper()"
   ]
  },
  {
   "cell_type": "code",
   "execution_count": 18,
   "id": "ab4b2889-0dee-424f-ac1f-14eb2e6b4751",
   "metadata": {},
   "outputs": [
    {
     "data": {
      "text/plain": [
       "False"
      ]
     },
     "execution_count": 18,
     "metadata": {},
     "output_type": "execute_result"
    }
   ],
   "source": [
    "s.isupper()"
   ]
  },
  {
   "cell_type": "code",
   "execution_count": 20,
   "id": "2a2673e7-f092-4ca3-b78c-8b067b3e0858",
   "metadata": {},
   "outputs": [
    {
     "data": {
      "text/plain": [
       "True"
      ]
     },
     "execution_count": 20,
     "metadata": {},
     "output_type": "execute_result"
    }
   ],
   "source": [
    "s.islower()"
   ]
  },
  {
   "cell_type": "code",
   "execution_count": 23,
   "id": "6b4e827b-7e6e-49a1-8c37-fd159d5adddf",
   "metadata": {},
   "outputs": [
    {
     "data": {
      "text/plain": [
       "'bumble bee'"
      ]
     },
     "execution_count": 23,
     "metadata": {},
     "output_type": "execute_result"
    }
   ],
   "source": [
    "s"
   ]
  },
  {
   "cell_type": "code",
   "execution_count": 27,
   "id": "a92be163-a988-4b1e-a9a1-b218f57925c3",
   "metadata": {},
   "outputs": [
    {
     "name": "stdout",
     "output_type": "stream",
     "text": [
      "my name is rohit and my age is 21\n"
     ]
    }
   ],
   "source": [
    "name=\"rohit\"\n",
    "age=21\n",
    "print(f\"my name is {name} and my age is {age}\")"
   ]
  },
  {
   "cell_type": "code",
   "execution_count": 30,
   "id": "dc1bcf20-f091-4647-899e-fb2ba48098fb",
   "metadata": {},
   "outputs": [
    {
     "name": "stdout",
     "output_type": "stream",
     "text": [
      "the length 2 is the breath is 4 area : 8\n"
     ]
    }
   ],
   "source": [
    "length=2\n",
    "breath=4\n",
    "print(f\"the length {length} is the breath is {breath} area : {length*breath}\")"
   ]
  },
  {
   "cell_type": "code",
   "execution_count": 31,
   "id": "b8bb9ece-9b5b-47b4-b427-0c220f71f1bb",
   "metadata": {},
   "outputs": [
    {
     "name": "stdout",
     "output_type": "stream",
     "text": [
      "soso                                    \n",
      "                                    soso\n",
      "                  soso                  \n"
     ]
    }
   ],
   "source": [
    "print(f\"{'soso':<40}\")\n",
    "print(f\"{'soso':>40}\")\n",
    "print(f\"{'soso':^40}\")\n"
   ]
  }
 ],
 "metadata": {
  "kernelspec": {
   "display_name": "Python 3 (ipykernel)",
   "language": "python",
   "name": "python3"
  },
  "language_info": {
   "codemirror_mode": {
    "name": "ipython",
    "version": 3
   },
   "file_extension": ".py",
   "mimetype": "text/x-python",
   "name": "python",
   "nbconvert_exporter": "python",
   "pygments_lexer": "ipython3",
   "version": "3.11.7"
  }
 },
 "nbformat": 4,
 "nbformat_minor": 5
}
