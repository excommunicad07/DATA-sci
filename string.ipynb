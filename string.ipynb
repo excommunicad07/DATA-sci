{
 "cells": [
  {
   "cell_type": "code",
   "execution_count": 9,
   "id": "4e05b9b3-59bd-4737-98f9-f4c39cd5429a",
   "metadata": {},
   "outputs": [],
   "source": [
    "name1=\"rohit\""
   ]
  },
  {
   "cell_type": "code",
   "execution_count": 11,
   "id": "91df1490-a591-4773-8926-c31cdd6b1605",
   "metadata": {},
   "outputs": [
    {
     "data": {
      "text/plain": [
       "'rohit'"
      ]
     },
     "execution_count": 11,
     "metadata": {},
     "output_type": "execute_result"
    }
   ],
   "source": [
    "name1"
   ]
  },
  {
   "cell_type": "code",
   "execution_count": 4,
   "id": "d610fb25-28b7-4727-b049-ffefc7908d57",
   "metadata": {},
   "outputs": [],
   "source": [
    "name=\"happy\""
   ]
  },
  {
   "cell_type": "code",
   "execution_count": 7,
   "id": "773bfcfb-fb2f-470d-835a-98551c8c03ae",
   "metadata": {},
   "outputs": [
    {
     "name": "stdout",
     "output_type": "stream",
     "text": [
      "happy\n"
     ]
    }
   ],
   "source": [
    "print(name)"
   ]
  },
  {
   "cell_type": "code",
   "execution_count": 14,
   "id": "91c04785-f815-4e64-a698-3c3c6c8a778e",
   "metadata": {},
   "outputs": [
    {
     "data": {
      "text/plain": [
       "'ROHIT'"
      ]
     },
     "execution_count": 14,
     "metadata": {},
     "output_type": "execute_result"
    }
   ],
   "source": [
    "name1.upper()"
   ]
  },
  {
   "cell_type": "code",
   "execution_count": 16,
   "id": "44f56a79-a951-460d-8ddb-31ea24dacf66",
   "metadata": {},
   "outputs": [
    {
     "data": {
      "text/plain": [
       "'happy'"
      ]
     },
     "execution_count": 16,
     "metadata": {},
     "output_type": "execute_result"
    }
   ],
   "source": [
    "name.lower()"
   ]
  },
  {
   "cell_type": "code",
   "execution_count": 18,
   "id": "e2ff23cf-ad7b-4119-8f9a-d54b134c3382",
   "metadata": {},
   "outputs": [
    {
     "data": {
      "text/plain": [
       "True"
      ]
     },
     "execution_count": 18,
     "metadata": {},
     "output_type": "execute_result"
    }
   ],
   "source": [
    "name.endswith(\"y\")"
   ]
  },
  {
   "cell_type": "code",
   "execution_count": 21,
   "id": "ab4f3c09-1b60-4b60-9ea7-7155c00515f9",
   "metadata": {},
   "outputs": [
    {
     "data": {
      "text/plain": [
       "False"
      ]
     },
     "execution_count": 21,
     "metadata": {},
     "output_type": "execute_result"
    }
   ],
   "source": [
    "name1.endswith(\"o\")"
   ]
  },
  {
   "cell_type": "code",
   "execution_count": 23,
   "id": "0354e707-e706-4f81-ae42-16528b89e9c7",
   "metadata": {},
   "outputs": [
    {
     "data": {
      "text/plain": [
       "1"
      ]
     },
     "execution_count": 23,
     "metadata": {},
     "output_type": "execute_result"
    }
   ],
   "source": [
    "name1.count('r')"
   ]
  },
  {
   "cell_type": "code",
   "execution_count": 26,
   "id": "3bba00a6-60fc-46b9-b544-4da82f03338f",
   "metadata": {},
   "outputs": [
    {
     "data": {
      "text/plain": [
       "2"
      ]
     },
     "execution_count": 26,
     "metadata": {},
     "output_type": "execute_result"
    }
   ],
   "source": [
    "name.count('p')"
   ]
  },
  {
   "cell_type": "code",
   "execution_count": 27,
   "id": "791b4a07-dcae-486f-99d9-e44bccdbda5d",
   "metadata": {},
   "outputs": [],
   "source": [
    "wow=\"ter hen ki xhut\""
   ]
  },
  {
   "cell_type": "code",
   "execution_count": 30,
   "id": "9aabc8ee-993b-4d82-b50a-6de51e5676b7",
   "metadata": {},
   "outputs": [
    {
     "data": {
      "text/plain": [
       "15"
      ]
     },
     "execution_count": 30,
     "metadata": {},
     "output_type": "execute_result"
    }
   ],
   "source": [
    "len(wow)"
   ]
  },
  {
   "cell_type": "code",
   "execution_count": 31,
   "id": "760a1558-3688-4312-b100-ccf98b2a87e0",
   "metadata": {},
   "outputs": [
    {
     "data": {
      "text/plain": [
       "'ter h'"
      ]
     },
     "execution_count": 31,
     "metadata": {},
     "output_type": "execute_result"
    }
   ],
   "source": [
    "wow[0:5]"
   ]
  }
 ],
 "metadata": {
  "kernelspec": {
   "display_name": "Python 3 (ipykernel)",
   "language": "python",
   "name": "python3"
  },
  "language_info": {
   "codemirror_mode": {
    "name": "ipython",
    "version": 3
   },
   "file_extension": ".py",
   "mimetype": "text/x-python",
   "name": "python",
   "nbconvert_exporter": "python",
   "pygments_lexer": "ipython3",
   "version": "3.11.7"
  }
 },
 "nbformat": 4,
 "nbformat_minor": 5
}
