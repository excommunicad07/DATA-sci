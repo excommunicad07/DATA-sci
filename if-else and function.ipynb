{
 "cells": [
  {
   "cell_type": "code",
   "execution_count": 2,
   "id": "31c612a2-326a-463a-bd64-1bb47857b3d4",
   "metadata": {},
   "outputs": [
    {
     "name": "stdout",
     "output_type": "stream",
     "text": [
      "tere mard ka size lmao:\n"
     ]
    }
   ],
   "source": [
    "a=5\n",
    "if a<5:\n",
    "    print(\"chooti lulli\")\n",
    "elif a>4:\n",
    "    print(\"tere mard ka size lmao:\")\n",
    "else:\n",
    "    print:(\"hijru\")\n",
    "    "
   ]
  },
  {
   "cell_type": "code",
   "execution_count": 3,
   "id": "c55c3f1e-f080-4a73-9074-e61826841a9e",
   "metadata": {},
   "outputs": [],
   "source": [
    "def xoxo(a,b):\n",
    "    return (a+b)/2"
   ]
  },
  {
   "cell_type": "code",
   "execution_count": 4,
   "id": "a348c6e0-f6ba-45bb-80f6-e075e63f80e4",
   "metadata": {},
   "outputs": [
    {
     "data": {
      "text/plain": [
       "5.0"
      ]
     },
     "execution_count": 4,
     "metadata": {},
     "output_type": "execute_result"
    }
   ],
   "source": [
    "xoxo(4,6)\n"
   ]
  },
  {
   "cell_type": "code",
   "execution_count": 5,
   "id": "7a6244e7-845c-43af-a33c-ccc23e233461",
   "metadata": {},
   "outputs": [],
   "source": [
    "def hehe(a,b):\n",
    "    print(\"nothing\")\n",
    "    return(a*b)"
   ]
  },
  {
   "cell_type": "code",
   "execution_count": 8,
   "id": "0d4a5ff6-8a70-4099-b44d-356844b19f25",
   "metadata": {},
   "outputs": [
    {
     "name": "stdout",
     "output_type": "stream",
     "text": [
      "nothing\n"
     ]
    },
    {
     "data": {
      "text/plain": [
       "'gugugugugugugugu'"
      ]
     },
     "execution_count": 8,
     "metadata": {},
     "output_type": "execute_result"
    }
   ],
   "source": [
    "hehe(4,\"gugu\")"
   ]
  },
  {
   "cell_type": "code",
   "execution_count": 18,
   "id": "e321cafc-dce0-4675-9aa4-952bb5fe0e0f",
   "metadata": {},
   "outputs": [],
   "source": [
    "def bajaj(su,sa=4):\n",
    "    print(\"L  U  N  D\")\n",
    "    return (su+sa)\n"
   ]
  },
  {
   "cell_type": "code",
   "execution_count": 20,
   "id": "f160924a-cf2b-4187-a908-bc43ef3f8a9f",
   "metadata": {},
   "outputs": [
    {
     "name": "stdout",
     "output_type": "stream",
     "text": [
      "L  U  N  D\n"
     ]
    },
    {
     "data": {
      "text/plain": [
       "6"
      ]
     },
     "execution_count": 20,
     "metadata": {},
     "output_type": "execute_result"
    }
   ],
   "source": [
    "bajaj(2,4)"
   ]
  },
  {
   "cell_type": "code",
   "execution_count": 21,
   "id": "c3997504-8609-47ac-a073-57f83207c9ab",
   "metadata": {},
   "outputs": [
    {
     "name": "stdout",
     "output_type": "stream",
     "text": [
      "L  U  N  D\n"
     ]
    },
    {
     "data": {
      "text/plain": [
       "8"
      ]
     },
     "execution_count": 21,
     "metadata": {},
     "output_type": "execute_result"
    }
   ],
   "source": [
    "bajaj(4)"
   ]
  }
 ],
 "metadata": {
  "kernelspec": {
   "display_name": "Python 3 (ipykernel)",
   "language": "python",
   "name": "python3"
  },
  "language_info": {
   "codemirror_mode": {
    "name": "ipython",
    "version": 3
   },
   "file_extension": ".py",
   "mimetype": "text/x-python",
   "name": "python",
   "nbconvert_exporter": "python",
   "pygments_lexer": "ipython3",
   "version": "3.11.7"
  }
 },
 "nbformat": 4,
 "nbformat_minor": 5
}
