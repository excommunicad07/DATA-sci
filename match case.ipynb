{
 "cells": [
  {
   "cell_type": "code",
   "execution_count": 41,
   "id": "660e89a3-5712-46c7-a0ac-897c5808f476",
   "metadata": {},
   "outputs": [
    {
     "name": "stdin",
     "output_type": "stream",
     "text": [
      "enter the code 400\n"
     ]
    }
   ],
   "source": [
    "code=input(\"enter the code\")"
   ]
  },
  {
   "cell_type": "code",
   "execution_count": 42,
   "id": "d5b5d1ae-2c1c-4435-b825-4fa96845da0b",
   "metadata": {},
   "outputs": [
    {
     "data": {
      "text/plain": [
       "400"
      ]
     },
     "execution_count": 42,
     "metadata": {},
     "output_type": "execute_result"
    }
   ],
   "source": [
    "int(code)"
   ]
  },
  {
   "cell_type": "code",
   "execution_count": 44,
   "id": "af54358c-d9f6-4eb4-84a7-3d88f03a0093",
   "metadata": {},
   "outputs": [
    {
     "name": "stdout",
     "output_type": "stream",
     "text": [
      "non-chalant\n"
     ]
    }
   ],
   "source": [
    "match code:\n",
    "    case '200':\n",
    "        print(\"not eligible\")\n",
    "    case '300':\n",
    "        print(\"perfecto\")\n",
    "    case _:\n",
    "        print(\"non-chalant\")"
   ]
  },
  {
   "cell_type": "code",
   "execution_count": 46,
   "id": "834b5205-b9f2-492e-b4e9-f35b35970c66",
   "metadata": {},
   "outputs": [
    {
     "name": "stdin",
     "output_type": "stream",
     "text": [
      "enter you num 5\n"
     ]
    }
   ],
   "source": [
    "yo=int(input(\"enter you num\"))"
   ]
  },
  {
   "cell_type": "code",
   "execution_count": 48,
   "id": "50918fad-4ca5-45e3-b727-dbb4179d276b",
   "metadata": {},
   "outputs": [
    {
     "name": "stdout",
     "output_type": "stream",
     "text": [
      "perfecto\n"
     ]
    }
   ],
   "source": [
    "match yo:\n",
    "    case 200:\n",
    "        print(\"not eligible\")\n",
    "    case 5:\n",
    "        print(\"perfecto\")\n",
    "    case _:\n",
    "        print(\"non-chalant\")"
   ]
  }
 ],
 "metadata": {
  "kernelspec": {
   "display_name": "Python 3 (ipykernel)",
   "language": "python",
   "name": "python3"
  },
  "language_info": {
   "codemirror_mode": {
    "name": "ipython",
    "version": 3
   },
   "file_extension": ".py",
   "mimetype": "text/x-python",
   "name": "python",
   "nbconvert_exporter": "python",
   "pygments_lexer": "ipython3",
   "version": "3.11.7"
  }
 },
 "nbformat": 4,
 "nbformat_minor": 5
}
