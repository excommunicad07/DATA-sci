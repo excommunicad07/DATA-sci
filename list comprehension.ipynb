{
 "cells": [
  {
   "cell_type": "code",
   "execution_count": 2,
   "id": "45be4505-1505-49be-aae8-986ef451e3ae",
   "metadata": {},
   "outputs": [],
   "source": [
    "#list comprehension mtlb list k andar hi kuch line of code likh dena \n",
    "# so that wo list me hi store ho jaye"
   ]
  },
  {
   "cell_type": "code",
   "execution_count": 8,
   "id": "a40dfa08-a1bc-42f0-95c9-726145b9667e",
   "metadata": {},
   "outputs": [],
   "source": [
    "li=[2*i for i in range(1,11) if i%2==0]"
   ]
  },
  {
   "cell_type": "code",
   "execution_count": 10,
   "id": "3c5bc1fd-e81c-4fe0-9081-d774b93b3177",
   "metadata": {},
   "outputs": [
    {
     "data": {
      "text/plain": [
       "[4, 8, 12, 16, 20]"
      ]
     },
     "execution_count": 10,
     "metadata": {},
     "output_type": "execute_result"
    }
   ],
   "source": [
    "li"
   ]
  },
  {
   "cell_type": "code",
   "execution_count": 12,
   "id": "9614614f-0ea5-424b-a3eb-3bd57e42c23d",
   "metadata": {},
   "outputs": [],
   "source": [
    "li=[2*i for i in range(1,11) ]"
   ]
  },
  {
   "cell_type": "code",
   "execution_count": 15,
   "id": "0a59b8f0-e5c0-421c-9978-f657fcdc605d",
   "metadata": {},
   "outputs": [
    {
     "data": {
      "text/plain": [
       "[2, 4, 6, 8, 10, 12, 14, 16, 18, 20]"
      ]
     },
     "execution_count": 15,
     "metadata": {},
     "output_type": "execute_result"
    }
   ],
   "source": [
    "li"
   ]
  },
  {
   "cell_type": "code",
   "execution_count": null,
   "id": "e3cedd9e-2c96-4ed5-884b-5d179faf56fd",
   "metadata": {},
   "outputs": [],
   "source": [
    "# similarly dictionary and set comprehension bhi hota hai but tuple comprehension nahi hota kyuki wo immutable hoti hai\n"
   ]
  }
 ],
 "metadata": {
  "kernelspec": {
   "display_name": "Python 3 (ipykernel)",
   "language": "python",
   "name": "python3"
  },
  "language_info": {
   "codemirror_mode": {
    "name": "ipython",
    "version": 3
   },
   "file_extension": ".py",
   "mimetype": "text/x-python",
   "name": "python",
   "nbconvert_exporter": "python",
   "pygments_lexer": "ipython3",
   "version": "3.11.7"
  }
 },
 "nbformat": 4,
 "nbformat_minor": 5
}
