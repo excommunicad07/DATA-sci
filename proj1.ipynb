{
 "cells": [
  {
   "cell_type": "code",
   "execution_count": 5,
   "id": "2faa102d-bd6f-40c4-94ca-e87df89ea9f5",
   "metadata": {},
   "outputs": [],
   "source": [
    "import json"
   ]
  },
  {
   "cell_type": "code",
   "execution_count": 8,
   "id": "7b40e470-937f-4a72-95b5-28f07b46bd6c",
   "metadata": {},
   "outputs": [],
   "source": [
    "def define(filename):\n",
    "    with open(filename,\"r\")as file:\n",
    "                cont=json.load(file)\n",
    "    return cont"
   ]
  },
  {
   "cell_type": "code",
   "execution_count": 9,
   "id": "d2a02e48-670b-40a6-8adf-958f44b589e8",
   "metadata": {},
   "outputs": [],
   "source": [
    "cont=define(\"proj.json\")"
   ]
  },
  {
   "cell_type": "code",
   "execution_count": 11,
   "id": "346fb27c-d2bc-4492-b174-6e792403ac90",
   "metadata": {},
   "outputs": [
    {
     "data": {
      "text/plain": [
       "{'users': [{'id': 1, 'name': 'Amit', 'friends': [2, 3], 'liked_pages': [101]},\n",
       "  {'id': 2, 'name': 'Priya', 'friends': [1, 4], 'liked_pages': [102]},\n",
       "  {'id': 3, 'name': 'Rahul', 'friends': [1], 'liked_pages': [101, 103]},\n",
       "  {'id': 4, 'name': 'Sara', 'friends': [2], 'liked_pages': [104]}],\n",
       " 'pages': [{'id': 101, 'name': 'Python Developers'},\n",
       "  {'id': 102, 'name': 'Data Science Enthusiasts'},\n",
       "  {'id': 103, 'name': 'AI & ML Community'},\n",
       "  {'id': 104, 'name': 'Web Dev Hub'}]}"
      ]
     },
     "execution_count": 11,
     "metadata": {},
     "output_type": "execute_result"
    }
   ],
   "source": [
    "cont"
   ]
  },
  {
   "cell_type": "code",
   "execution_count": 17,
   "id": "da03c148-bc65-4f08-870e-a8c4e65ab96c",
   "metadata": {},
   "outputs": [
    {
     "name": "stdout",
     "output_type": "stream",
     "text": [
      "\n",
      " 101:Python Developers\n",
      "\n",
      " 102:Data Science Enthusiasts\n",
      "\n",
      " 103:AI & ML Community\n",
      "\n",
      " 104:Web Dev Hub\n",
      "\n",
      " pages information\n",
      "\n",
      " Amit is freind with [2, 3]and liked pages are [101]\n",
      "\n",
      " Priya is freind with [1, 4]and liked pages are [102]\n",
      "\n",
      " Rahul is freind with [1]and liked pages are [101, 103]\n",
      "\n",
      " Sara is freind with [2]and liked pages are [104]\n"
     ]
    }
   ],
   "source": [
    "def display(cont):\n",
    "    print(\"\\n pages information\")\n",
    "    for user in cont['users']:\n",
    "            print(f\"\\n {user['name']} is freind with {user['friends']} and liked pages are {user['liked_pages']}\")\n",
    "            \n",
    "for page in cont['pages']:\n",
    "    print(f\"\\n {page['id']}:{page['name']}\")\n",
    "\n",
    "display(cont)\n",
    "    "
   ]
  }
 ],
 "metadata": {
  "kernelspec": {
   "display_name": "Python 3 (ipykernel)",
   "language": "python",
   "name": "python3"
  },
  "language_info": {
   "codemirror_mode": {
    "name": "ipython",
    "version": 3
   },
   "file_extension": ".py",
   "mimetype": "text/x-python",
   "name": "python",
   "nbconvert_exporter": "python",
   "pygments_lexer": "ipython3",
   "version": "3.11.7"
  }
 },
 "nbformat": 4,
 "nbformat_minor": 5
}
