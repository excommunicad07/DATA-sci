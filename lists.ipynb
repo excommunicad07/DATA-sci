{
 "cells": [
  {
   "cell_type": "code",
   "execution_count": 12,
   "id": "55cd66e7-75ac-4153-a1d0-169486e90b5d",
   "metadata": {},
   "outputs": [],
   "source": [
    "l=[1,2,3,4]"
   ]
  },
  {
   "cell_type": "code",
   "execution_count": 14,
   "id": "1ac0b721-a191-4152-97f7-8072a6b4d410",
   "metadata": {},
   "outputs": [
    {
     "data": {
      "text/plain": [
       "[1, 2, 3, 4]"
      ]
     },
     "execution_count": 14,
     "metadata": {},
     "output_type": "execute_result"
    }
   ],
   "source": [
    "l"
   ]
  },
  {
   "cell_type": "code",
   "execution_count": 15,
   "id": "3f1940b8-e600-4773-9afd-9cb5cf3408d9",
   "metadata": {},
   "outputs": [],
   "source": [
    "l.append('x')"
   ]
  },
  {
   "cell_type": "code",
   "execution_count": 17,
   "id": "f0fbf0bb-a09a-41d3-b111-5e0faf698fb2",
   "metadata": {},
   "outputs": [
    {
     "data": {
      "text/plain": [
       "[1, 2, 3, 4, 'x']"
      ]
     },
     "execution_count": 17,
     "metadata": {},
     "output_type": "execute_result"
    }
   ],
   "source": [
    "l"
   ]
  },
  {
   "cell_type": "code",
   "execution_count": 18,
   "id": "df1b79e5-105c-4843-8060-eff012100c72",
   "metadata": {},
   "outputs": [],
   "source": [
    "l2=['a','b','c']"
   ]
  },
  {
   "cell_type": "code",
   "execution_count": 19,
   "id": "d6a72d2b-e0a7-42e0-9109-d63b33448bad",
   "metadata": {},
   "outputs": [],
   "source": [
    "l.extend(l2)"
   ]
  },
  {
   "cell_type": "code",
   "execution_count": 21,
   "id": "a1ac7d85-db5e-4342-a7ec-bdb771c12448",
   "metadata": {},
   "outputs": [
    {
     "data": {
      "text/plain": [
       "[1, 2, 3, 4, 'x', 'a', 'b', 'c']"
      ]
     },
     "execution_count": 21,
     "metadata": {},
     "output_type": "execute_result"
    }
   ],
   "source": [
    "l"
   ]
  },
  {
   "cell_type": "code",
   "execution_count": 22,
   "id": "35ad5021-65ca-4010-b570-a9ded506f9f4",
   "metadata": {},
   "outputs": [],
   "source": [
    "l.insert(4,'z')"
   ]
  },
  {
   "cell_type": "code",
   "execution_count": 24,
   "id": "cf0f6079-332f-4571-b92d-33791a1721cf",
   "metadata": {},
   "outputs": [
    {
     "data": {
      "text/plain": [
       "[1, 2, 3, 4, 'z', 'x', 'a', 'b', 'c']"
      ]
     },
     "execution_count": 24,
     "metadata": {},
     "output_type": "execute_result"
    }
   ],
   "source": [
    "l"
   ]
  },
  {
   "cell_type": "code",
   "execution_count": 25,
   "id": "5ae16906-bc9e-4c99-97e3-413841c246df",
   "metadata": {},
   "outputs": [
    {
     "data": {
      "text/plain": [
       "3"
      ]
     },
     "execution_count": 25,
     "metadata": {},
     "output_type": "execute_result"
    }
   ],
   "source": [
    "l.pop(2)"
   ]
  },
  {
   "cell_type": "code",
   "execution_count": 27,
   "id": "0f03eed1-7649-4582-ab13-d15dfd4d1329",
   "metadata": {},
   "outputs": [
    {
     "data": {
      "text/plain": [
       "3"
      ]
     },
     "execution_count": 27,
     "metadata": {},
     "output_type": "execute_result"
    }
   ],
   "source": [
    "l.index('z')"
   ]
  },
  {
   "cell_type": "code",
   "execution_count": 29,
   "id": "63c1e0e6-58f2-4302-ae4e-9685458ae32e",
   "metadata": {},
   "outputs": [],
   "source": [
    "l3=['a','b','c','d']"
   ]
  },
  {
   "cell_type": "code",
   "execution_count": 31,
   "id": "31b15997-71b2-4904-ba69-d92ed2b8a163",
   "metadata": {},
   "outputs": [],
   "source": [
    "l3.sort()"
   ]
  },
  {
   "cell_type": "code",
   "execution_count": 34,
   "id": "396608b2-6331-48fb-9e94-6686cf3deae0",
   "metadata": {},
   "outputs": [],
   "source": [
    "l3.reverse()"
   ]
  },
  {
   "cell_type": "code",
   "execution_count": 36,
   "id": "bf5c7117-2f7d-4017-89ed-dc7997193fe3",
   "metadata": {},
   "outputs": [
    {
     "data": {
      "text/plain": [
       "['d', 'c', 'b', 'a']"
      ]
     },
     "execution_count": 36,
     "metadata": {},
     "output_type": "execute_result"
    }
   ],
   "source": [
    "l3"
   ]
  },
  {
   "cell_type": "code",
   "execution_count": 38,
   "id": "156922b9-3caf-4559-9594-6c5ac6f226ed",
   "metadata": {},
   "outputs": [
    {
     "data": {
      "text/plain": [
       "['a', 'b', 'c', 'd']"
      ]
     },
     "execution_count": 38,
     "metadata": {},
     "output_type": "execute_result"
    }
   ],
   "source": [
    "sorted(l3)"
   ]
  },
  {
   "cell_type": "code",
   "execution_count": 39,
   "id": "43410c3a-cbc2-4f02-be6b-c8d1ee10880c",
   "metadata": {},
   "outputs": [],
   "source": [
    "l4=[1,2,3,4,[5,6]]"
   ]
  },
  {
   "cell_type": "code",
   "execution_count": 41,
   "id": "d81dfb43-13e3-4fce-bf01-c5a0cbdff202",
   "metadata": {},
   "outputs": [
    {
     "data": {
      "text/plain": [
       "[1, 2, 3, 4, [5, 6]]"
      ]
     },
     "execution_count": 41,
     "metadata": {},
     "output_type": "execute_result"
    }
   ],
   "source": [
    "l4"
   ]
  },
  {
   "cell_type": "code",
   "execution_count": 43,
   "id": "90681b88-35dc-4995-bac0-5b5e972c0305",
   "metadata": {},
   "outputs": [
    {
     "data": {
      "text/plain": [
       "[5, 6]"
      ]
     },
     "execution_count": 43,
     "metadata": {},
     "output_type": "execute_result"
    }
   ],
   "source": [
    "l4[4]"
   ]
  },
  {
   "cell_type": "code",
   "execution_count": 45,
   "id": "c600ae4f-41c4-48ca-a29f-f4d3359619f0",
   "metadata": {},
   "outputs": [
    {
     "data": {
      "text/plain": [
       "5"
      ]
     },
     "execution_count": 45,
     "metadata": {},
     "output_type": "execute_result"
    }
   ],
   "source": [
    "l4[4][0]"
   ]
  },
  {
   "cell_type": "code",
   "execution_count": 48,
   "id": "2190107e-2296-4805-a18a-6941c2659269",
   "metadata": {},
   "outputs": [],
   "source": [
    "l4[4].insert(1,'i')"
   ]
  },
  {
   "cell_type": "code",
   "execution_count": 50,
   "id": "c7c4d3c1-cea2-4d7c-b3e6-b8a69dba5738",
   "metadata": {},
   "outputs": [
    {
     "data": {
      "text/plain": [
       "[1, 2, 3, 4, [5, 'i', 'i', 6]]"
      ]
     },
     "execution_count": 50,
     "metadata": {},
     "output_type": "execute_result"
    }
   ],
   "source": [
    "l4"
   ]
  },
  {
   "cell_type": "code",
   "execution_count": 59,
   "id": "dadddcff-527c-4022-8869-a534edf9500f",
   "metadata": {},
   "outputs": [],
   "source": [
    "list5=[\"john\",\"wick\",\"excommunicado\"]"
   ]
  },
  {
   "cell_type": "code",
   "execution_count": 66,
   "id": "1936f5ea-e983-4b68-948a-a99c6df965af",
   "metadata": {},
   "outputs": [
    {
     "name": "stdout",
     "output_type": "stream",
     "text": [
      "1\n"
     ]
    }
   ],
   "source": [
    "length=len(list5)\n",
    "print(length)"
   ]
  },
  {
   "cell_type": "markdown",
   "id": "d8a273a9-eb66-4029-b620-59d5da9623ba",
   "metadata": {
    "jp-MarkdownHeadingCollapsed": true
   },
   "source": [
    "l5"
   ]
  },
  {
   "cell_type": "code",
   "execution_count": 67,
   "id": "68eeb48f-a922-4564-98c7-863fc0a932f7",
   "metadata": {},
   "outputs": [
    {
     "name": "stdout",
     "output_type": "stream",
     "text": [
      "4\n"
     ]
    }
   ],
   "source": [
    "lie=[1,2,3,4]\n",
    "le=len(lie)\n",
    "print(le)"
   ]
  }
 ],
 "metadata": {
  "kernelspec": {
   "display_name": "Python 3 (ipykernel)",
   "language": "python",
   "name": "python3"
  },
  "language_info": {
   "codemirror_mode": {
    "name": "ipython",
    "version": 3
   },
   "file_extension": ".py",
   "mimetype": "text/x-python",
   "name": "python",
   "nbconvert_exporter": "python",
   "pygments_lexer": "ipython3",
   "version": "3.11.7"
  }
 },
 "nbformat": 4,
 "nbformat_minor": 5
}
