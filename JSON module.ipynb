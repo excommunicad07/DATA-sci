{
 "cells": [
  {
   "cell_type": "code",
   "execution_count": 2,
   "id": "1da970ad-2f63-4736-83ab-0f3cde03bc53",
   "metadata": {},
   "outputs": [],
   "source": [
    "import json"
   ]
  },
  {
   "cell_type": "code",
   "execution_count": 4,
   "id": "c9d5f4d6-0e24-4049-bb1b-c776b987da4f",
   "metadata": {},
   "outputs": [
    {
     "data": {
      "text/plain": [
       "'{\"alice\": \"kallis\", \"11\": \"mkc\", \"22\": \"wanda\"}'"
      ]
     },
     "execution_count": 4,
     "metadata": {},
     "output_type": "execute_result"
    }
   ],
   "source": [
    "obs={'alice':'kallis',11:'mkc',22:'wanda'}\n",
    "json.dumps(obs) #dumps kisi python object ko string me convert karta hai"
   ]
  },
  {
   "cell_type": "code",
   "execution_count": 7,
   "id": "04a1d06d-e152-4fe5-a846-b087def63e12",
   "metadata": {},
   "outputs": [],
   "source": [
    "l=json.loads('{\"alice\": \"kallis\", \"11\": \"mkc\", \"22\": \"wanda\"}')"
   ]
  },
  {
   "cell_type": "code",
   "execution_count": 9,
   "id": "9fd6db89-d63f-4091-98de-3937abaeb5b2",
   "metadata": {},
   "outputs": [
    {
     "data": {
      "text/plain": [
       "dict"
      ]
     },
     "execution_count": 9,
     "metadata": {},
     "output_type": "execute_result"
    }
   ],
   "source": [
    "type(l)\n",
    "#loads kisi string ko python object me convert krta hai"
   ]
  },
  {
   "cell_type": "code",
   "execution_count": 10,
   "id": "7e9987df-93a2-495b-b451-c827a49cbcbe",
   "metadata": {},
   "outputs": [],
   "source": [
    "file=open(\"data.json\",\"w\")"
   ]
  },
  {
   "cell_type": "code",
   "execution_count": 11,
   "id": "34c9704e-6f24-4ba2-aa2a-6deb0de0a77c",
   "metadata": {},
   "outputs": [],
   "source": [
    "json.dump(obs,file)"
   ]
  },
  {
   "cell_type": "code",
   "execution_count": 1,
   "id": "c382579a-ee47-4d42-af4f-a8b767890a8b",
   "metadata": {},
   "outputs": [
    {
     "ename": "NameError",
     "evalue": "name 'file' is not defined",
     "output_type": "error",
     "traceback": [
      "\u001b[1;31m---------------------------------------------------------------------------\u001b[0m",
      "\u001b[1;31mNameError\u001b[0m                                 Traceback (most recent call last)",
      "Cell \u001b[1;32mIn[1], line 1\u001b[0m\n\u001b[1;32m----> 1\u001b[0m file\u001b[38;5;241m.\u001b[39mclose()\n",
      "\u001b[1;31mNameError\u001b[0m: name 'file' is not defined"
     ]
    }
   ],
   "source": [
    "file.close()"
   ]
  },
  {
   "cell_type": "code",
   "execution_count": 4,
   "id": "6f4935c8-9472-4bbe-921e-85d2a07a6d5f",
   "metadata": {},
   "outputs": [
    {
     "name": "stdout",
     "output_type": "stream",
     "text": [
      "{\"banana\": 3, \"apple\": 5, \"cherry\": 2}\n",
      "{\"apple\": 5, \"banana\": 3, \"cherry\": 2}\n"
     ]
    }
   ],
   "source": [
    "import json\n",
    "\n",
    "data = {\n",
    "    \"banana\": 3,\n",
    "    \"apple\": 5,\n",
    "    \"cherry\": 2\n",
    "}\n",
    "\n",
    "# Without sort_keys\n",
    "print(json.dumps(data))\n",
    "# Output: {\"banana\": 3, \"apple\": 5, \"cherry\": 2}\n",
    "\n",
    "# With sort_keys\n",
    "print(json.dumps(data, sort_keys=True))\n",
    "# Output: {\"apple\": 5, \"banana\": 3, \"cherry\":"
   ]
  }
 ],
 "metadata": {
  "kernelspec": {
   "display_name": "Python 3 (ipykernel)",
   "language": "python",
   "name": "python3"
  },
  "language_info": {
   "codemirror_mode": {
    "name": "ipython",
    "version": 3
   },
   "file_extension": ".py",
   "mimetype": "text/x-python",
   "name": "python",
   "nbconvert_exporter": "python",
   "pygments_lexer": "ipython3",
   "version": "3.11.7"
  }
 },
 "nbformat": 4,
 "nbformat_minor": 5
}
